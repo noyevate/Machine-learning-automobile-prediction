{
 "cells": [
  {
   "cell_type": "code",
   "execution_count": 1,
   "id": "87a46f42",
   "metadata": {},
   "outputs": [],
   "source": [
    "import numpy as np\n",
    "import pandas as pd\n",
    "import matplotlib.pyplot as plt\n",
    "import seaborn as sns\n",
    "%matplotlib inline\n",
    "from sklearn.model_selection import train_test_split\n",
    "from sklearn.linear_model import LinearRegression\n",
    "from sklearn.metrics import accuracy_score as AS\n",
    "from sklearn.metrics import f1_score\n",
    "from sklearn.metrics import confusion_matrix \n",
    "from sklearn.preprocessing import StandardScaler\n",
    "from scipy.stats import spearmanr\n",
    "from sklearn.metrics import r2_score\n"
   ]
  },
  {
   "cell_type": "code",
   "execution_count": 2,
   "id": "00e34812",
   "metadata": {},
   "outputs": [
    {
     "data": {
      "text/html": [
       "<div>\n",
       "<style scoped>\n",
       "    .dataframe tbody tr th:only-of-type {\n",
       "        vertical-align: middle;\n",
       "    }\n",
       "\n",
       "    .dataframe tbody tr th {\n",
       "        vertical-align: top;\n",
       "    }\n",
       "\n",
       "    .dataframe thead th {\n",
       "        text-align: right;\n",
       "    }\n",
       "</style>\n",
       "<table border=\"1\" class=\"dataframe\">\n",
       "  <thead>\n",
       "    <tr style=\"text-align: right;\">\n",
       "      <th></th>\n",
       "      <th>Unnamed: 0</th>\n",
       "      <th>symboling</th>\n",
       "      <th>normalised-losses</th>\n",
       "      <th>make</th>\n",
       "      <th>fuel-type</th>\n",
       "      <th>aspiration</th>\n",
       "      <th>num-of-doors</th>\n",
       "      <th>body-style</th>\n",
       "      <th>drive-wheel</th>\n",
       "      <th>engine-location</th>\n",
       "      <th>...</th>\n",
       "      <th>engine-size</th>\n",
       "      <th>fuel-system</th>\n",
       "      <th>bore</th>\n",
       "      <th>stroke</th>\n",
       "      <th>compression-ratio</th>\n",
       "      <th>horse-power</th>\n",
       "      <th>peak-rpm</th>\n",
       "      <th>city-mpg</th>\n",
       "      <th>highway-mpg</th>\n",
       "      <th>price</th>\n",
       "    </tr>\n",
       "  </thead>\n",
       "  <tbody>\n",
       "    <tr>\n",
       "      <th>0</th>\n",
       "      <td>0</td>\n",
       "      <td>3</td>\n",
       "      <td>NaN</td>\n",
       "      <td>alfa-romero</td>\n",
       "      <td>gas</td>\n",
       "      <td>std</td>\n",
       "      <td>two</td>\n",
       "      <td>convertible</td>\n",
       "      <td>rwd</td>\n",
       "      <td>front</td>\n",
       "      <td>...</td>\n",
       "      <td>130</td>\n",
       "      <td>mpfi</td>\n",
       "      <td>3.47</td>\n",
       "      <td>2.68</td>\n",
       "      <td>9.0</td>\n",
       "      <td>111.0</td>\n",
       "      <td>5000.0</td>\n",
       "      <td>21</td>\n",
       "      <td>27</td>\n",
       "      <td>13495.0</td>\n",
       "    </tr>\n",
       "    <tr>\n",
       "      <th>1</th>\n",
       "      <td>1</td>\n",
       "      <td>3</td>\n",
       "      <td>NaN</td>\n",
       "      <td>alfa-romero</td>\n",
       "      <td>gas</td>\n",
       "      <td>std</td>\n",
       "      <td>two</td>\n",
       "      <td>convertible</td>\n",
       "      <td>rwd</td>\n",
       "      <td>front</td>\n",
       "      <td>...</td>\n",
       "      <td>130</td>\n",
       "      <td>mpfi</td>\n",
       "      <td>3.47</td>\n",
       "      <td>2.68</td>\n",
       "      <td>9.0</td>\n",
       "      <td>111.0</td>\n",
       "      <td>5000.0</td>\n",
       "      <td>21</td>\n",
       "      <td>27</td>\n",
       "      <td>16500.0</td>\n",
       "    </tr>\n",
       "    <tr>\n",
       "      <th>2</th>\n",
       "      <td>2</td>\n",
       "      <td>1</td>\n",
       "      <td>NaN</td>\n",
       "      <td>alfa-romero</td>\n",
       "      <td>gas</td>\n",
       "      <td>std</td>\n",
       "      <td>two</td>\n",
       "      <td>hatchback</td>\n",
       "      <td>rwd</td>\n",
       "      <td>front</td>\n",
       "      <td>...</td>\n",
       "      <td>152</td>\n",
       "      <td>mpfi</td>\n",
       "      <td>2.68</td>\n",
       "      <td>3.47</td>\n",
       "      <td>9.0</td>\n",
       "      <td>154.0</td>\n",
       "      <td>5000.0</td>\n",
       "      <td>19</td>\n",
       "      <td>26</td>\n",
       "      <td>16500.0</td>\n",
       "    </tr>\n",
       "    <tr>\n",
       "      <th>3</th>\n",
       "      <td>3</td>\n",
       "      <td>2</td>\n",
       "      <td>164.0</td>\n",
       "      <td>audi</td>\n",
       "      <td>gas</td>\n",
       "      <td>std</td>\n",
       "      <td>four</td>\n",
       "      <td>sedan</td>\n",
       "      <td>fwd</td>\n",
       "      <td>front</td>\n",
       "      <td>...</td>\n",
       "      <td>109</td>\n",
       "      <td>mpfi</td>\n",
       "      <td>3.19</td>\n",
       "      <td>3.40</td>\n",
       "      <td>10.0</td>\n",
       "      <td>102.0</td>\n",
       "      <td>5500.0</td>\n",
       "      <td>24</td>\n",
       "      <td>30</td>\n",
       "      <td>13950.0</td>\n",
       "    </tr>\n",
       "    <tr>\n",
       "      <th>4</th>\n",
       "      <td>4</td>\n",
       "      <td>2</td>\n",
       "      <td>164.0</td>\n",
       "      <td>audi</td>\n",
       "      <td>gas</td>\n",
       "      <td>std</td>\n",
       "      <td>four</td>\n",
       "      <td>sedan</td>\n",
       "      <td>4wd</td>\n",
       "      <td>front</td>\n",
       "      <td>...</td>\n",
       "      <td>136</td>\n",
       "      <td>mpfi</td>\n",
       "      <td>3.19</td>\n",
       "      <td>3.40</td>\n",
       "      <td>8.0</td>\n",
       "      <td>115.0</td>\n",
       "      <td>5500.0</td>\n",
       "      <td>18</td>\n",
       "      <td>22</td>\n",
       "      <td>17450.0</td>\n",
       "    </tr>\n",
       "  </tbody>\n",
       "</table>\n",
       "<p>5 rows × 27 columns</p>\n",
       "</div>"
      ],
      "text/plain": [
       "   Unnamed: 0  symboling  normalised-losses         make fuel-type aspiration  \\\n",
       "0           0          3                NaN  alfa-romero       gas        std   \n",
       "1           1          3                NaN  alfa-romero       gas        std   \n",
       "2           2          1                NaN  alfa-romero       gas        std   \n",
       "3           3          2              164.0         audi       gas        std   \n",
       "4           4          2              164.0         audi       gas        std   \n",
       "\n",
       "  num-of-doors   body-style drive-wheel engine-location  ...  engine-size  \\\n",
       "0          two  convertible         rwd           front  ...          130   \n",
       "1          two  convertible         rwd           front  ...          130   \n",
       "2          two    hatchback         rwd           front  ...          152   \n",
       "3         four        sedan         fwd           front  ...          109   \n",
       "4         four        sedan         4wd           front  ...          136   \n",
       "\n",
       "   fuel-system  bore  stroke  compression-ratio horse-power peak-rpm  \\\n",
       "0         mpfi  3.47    2.68                9.0       111.0   5000.0   \n",
       "1         mpfi  3.47    2.68                9.0       111.0   5000.0   \n",
       "2         mpfi  2.68    3.47                9.0       154.0   5000.0   \n",
       "3         mpfi  3.19    3.40               10.0       102.0   5500.0   \n",
       "4         mpfi  3.19    3.40                8.0       115.0   5500.0   \n",
       "\n",
       "   city-mpg highway-mpg    price  \n",
       "0        21          27  13495.0  \n",
       "1        21          27  16500.0  \n",
       "2        19          26  16500.0  \n",
       "3        24          30  13950.0  \n",
       "4        18          22  17450.0  \n",
       "\n",
       "[5 rows x 27 columns]"
      ]
     },
     "execution_count": 2,
     "metadata": {},
     "output_type": "execute_result"
    }
   ],
   "source": [
    "data = pd.read_csv('automobile.csv')\n",
    "data.head()"
   ]
  },
  {
   "cell_type": "code",
   "execution_count": 3,
   "id": "d0a5c93f",
   "metadata": {},
   "outputs": [
    {
     "name": "stdout",
     "output_type": "stream",
     "text": [
      "<class 'pandas.core.frame.DataFrame'>\n",
      "RangeIndex: 205 entries, 0 to 204\n",
      "Data columns (total 27 columns):\n",
      " #   Column             Non-Null Count  Dtype  \n",
      "---  ------             --------------  -----  \n",
      " 0   Unnamed: 0         205 non-null    int64  \n",
      " 1   symboling          205 non-null    int64  \n",
      " 2   normalised-losses  164 non-null    float64\n",
      " 3   make               205 non-null    object \n",
      " 4   fuel-type          205 non-null    object \n",
      " 5   aspiration         205 non-null    object \n",
      " 6   num-of-doors       203 non-null    object \n",
      " 7   body-style         205 non-null    object \n",
      " 8   drive-wheel        205 non-null    object \n",
      " 9   engine-location    205 non-null    object \n",
      " 10  wheel-base         205 non-null    float64\n",
      " 11  lenght             205 non-null    float64\n",
      " 12  width              205 non-null    float64\n",
      " 13  height             205 non-null    float64\n",
      " 14  curb-weight        205 non-null    int64  \n",
      " 15  engine-type        205 non-null    object \n",
      " 16  num-of-cylinders   205 non-null    object \n",
      " 17  engine-size        205 non-null    int64  \n",
      " 18  fuel-system        205 non-null    object \n",
      " 19  bore               201 non-null    float64\n",
      " 20  stroke             201 non-null    float64\n",
      " 21  compression-ratio  205 non-null    float64\n",
      " 22  horse-power        203 non-null    float64\n",
      " 23  peak-rpm           203 non-null    float64\n",
      " 24  city-mpg           205 non-null    int64  \n",
      " 25  highway-mpg        205 non-null    int64  \n",
      " 26  price              201 non-null    float64\n",
      "dtypes: float64(11), int64(6), object(10)\n",
      "memory usage: 43.4+ KB\n"
     ]
    }
   ],
   "source": [
    "data.info()"
   ]
  },
  {
   "cell_type": "code",
   "execution_count": 4,
   "id": "29639e03",
   "metadata": {},
   "outputs": [
    {
     "data": {
      "text/plain": [
       "Unnamed: 0            0\n",
       "symboling             0\n",
       "normalised-losses    41\n",
       "make                  0\n",
       "fuel-type             0\n",
       "aspiration            0\n",
       "num-of-doors          2\n",
       "body-style            0\n",
       "drive-wheel           0\n",
       "engine-location       0\n",
       "wheel-base            0\n",
       "lenght                0\n",
       "width                 0\n",
       "height                0\n",
       "curb-weight           0\n",
       "engine-type           0\n",
       "num-of-cylinders      0\n",
       "engine-size           0\n",
       "fuel-system           0\n",
       "bore                  4\n",
       "stroke                4\n",
       "compression-ratio     0\n",
       "horse-power           2\n",
       "peak-rpm              2\n",
       "city-mpg              0\n",
       "highway-mpg           0\n",
       "price                 4\n",
       "dtype: int64"
      ]
     },
     "execution_count": 4,
     "metadata": {},
     "output_type": "execute_result"
    }
   ],
   "source": [
    "data.isnull().sum()"
   ]
  },
  {
   "cell_type": "code",
   "execution_count": 5,
   "id": "c37cff51",
   "metadata": {},
   "outputs": [],
   "source": [
    "data[\"normalised-losses\"].fillna(122.0, inplace=True)"
   ]
  },
  {
   "cell_type": "code",
   "execution_count": 6,
   "id": "2ba1c03e",
   "metadata": {},
   "outputs": [
    {
     "data": {
      "text/html": [
       "<div>\n",
       "<style scoped>\n",
       "    .dataframe tbody tr th:only-of-type {\n",
       "        vertical-align: middle;\n",
       "    }\n",
       "\n",
       "    .dataframe tbody tr th {\n",
       "        vertical-align: top;\n",
       "    }\n",
       "\n",
       "    .dataframe thead th {\n",
       "        text-align: right;\n",
       "    }\n",
       "</style>\n",
       "<table border=\"1\" class=\"dataframe\">\n",
       "  <thead>\n",
       "    <tr style=\"text-align: right;\">\n",
       "      <th></th>\n",
       "      <th>Unnamed: 0</th>\n",
       "      <th>symboling</th>\n",
       "      <th>normalised-losses</th>\n",
       "      <th>make</th>\n",
       "      <th>fuel-type</th>\n",
       "      <th>aspiration</th>\n",
       "      <th>num-of-doors</th>\n",
       "      <th>body-style</th>\n",
       "      <th>drive-wheel</th>\n",
       "      <th>engine-location</th>\n",
       "      <th>...</th>\n",
       "      <th>engine-size</th>\n",
       "      <th>fuel-system</th>\n",
       "      <th>bore</th>\n",
       "      <th>stroke</th>\n",
       "      <th>compression-ratio</th>\n",
       "      <th>horse-power</th>\n",
       "      <th>peak-rpm</th>\n",
       "      <th>city-mpg</th>\n",
       "      <th>highway-mpg</th>\n",
       "      <th>price</th>\n",
       "    </tr>\n",
       "  </thead>\n",
       "  <tbody>\n",
       "    <tr>\n",
       "      <th>0</th>\n",
       "      <td>0</td>\n",
       "      <td>3</td>\n",
       "      <td>122.0</td>\n",
       "      <td>alfa-romero</td>\n",
       "      <td>gas</td>\n",
       "      <td>std</td>\n",
       "      <td>two</td>\n",
       "      <td>convertible</td>\n",
       "      <td>rwd</td>\n",
       "      <td>front</td>\n",
       "      <td>...</td>\n",
       "      <td>130</td>\n",
       "      <td>mpfi</td>\n",
       "      <td>3.47</td>\n",
       "      <td>2.68</td>\n",
       "      <td>9.0</td>\n",
       "      <td>111.0</td>\n",
       "      <td>5000.0</td>\n",
       "      <td>21</td>\n",
       "      <td>27</td>\n",
       "      <td>13495.0</td>\n",
       "    </tr>\n",
       "    <tr>\n",
       "      <th>1</th>\n",
       "      <td>1</td>\n",
       "      <td>3</td>\n",
       "      <td>122.0</td>\n",
       "      <td>alfa-romero</td>\n",
       "      <td>gas</td>\n",
       "      <td>std</td>\n",
       "      <td>two</td>\n",
       "      <td>convertible</td>\n",
       "      <td>rwd</td>\n",
       "      <td>front</td>\n",
       "      <td>...</td>\n",
       "      <td>130</td>\n",
       "      <td>mpfi</td>\n",
       "      <td>3.47</td>\n",
       "      <td>2.68</td>\n",
       "      <td>9.0</td>\n",
       "      <td>111.0</td>\n",
       "      <td>5000.0</td>\n",
       "      <td>21</td>\n",
       "      <td>27</td>\n",
       "      <td>16500.0</td>\n",
       "    </tr>\n",
       "    <tr>\n",
       "      <th>2</th>\n",
       "      <td>2</td>\n",
       "      <td>1</td>\n",
       "      <td>122.0</td>\n",
       "      <td>alfa-romero</td>\n",
       "      <td>gas</td>\n",
       "      <td>std</td>\n",
       "      <td>two</td>\n",
       "      <td>hatchback</td>\n",
       "      <td>rwd</td>\n",
       "      <td>front</td>\n",
       "      <td>...</td>\n",
       "      <td>152</td>\n",
       "      <td>mpfi</td>\n",
       "      <td>2.68</td>\n",
       "      <td>3.47</td>\n",
       "      <td>9.0</td>\n",
       "      <td>154.0</td>\n",
       "      <td>5000.0</td>\n",
       "      <td>19</td>\n",
       "      <td>26</td>\n",
       "      <td>16500.0</td>\n",
       "    </tr>\n",
       "    <tr>\n",
       "      <th>3</th>\n",
       "      <td>3</td>\n",
       "      <td>2</td>\n",
       "      <td>164.0</td>\n",
       "      <td>audi</td>\n",
       "      <td>gas</td>\n",
       "      <td>std</td>\n",
       "      <td>four</td>\n",
       "      <td>sedan</td>\n",
       "      <td>fwd</td>\n",
       "      <td>front</td>\n",
       "      <td>...</td>\n",
       "      <td>109</td>\n",
       "      <td>mpfi</td>\n",
       "      <td>3.19</td>\n",
       "      <td>3.40</td>\n",
       "      <td>10.0</td>\n",
       "      <td>102.0</td>\n",
       "      <td>5500.0</td>\n",
       "      <td>24</td>\n",
       "      <td>30</td>\n",
       "      <td>13950.0</td>\n",
       "    </tr>\n",
       "    <tr>\n",
       "      <th>4</th>\n",
       "      <td>4</td>\n",
       "      <td>2</td>\n",
       "      <td>164.0</td>\n",
       "      <td>audi</td>\n",
       "      <td>gas</td>\n",
       "      <td>std</td>\n",
       "      <td>four</td>\n",
       "      <td>sedan</td>\n",
       "      <td>4wd</td>\n",
       "      <td>front</td>\n",
       "      <td>...</td>\n",
       "      <td>136</td>\n",
       "      <td>mpfi</td>\n",
       "      <td>3.19</td>\n",
       "      <td>3.40</td>\n",
       "      <td>8.0</td>\n",
       "      <td>115.0</td>\n",
       "      <td>5500.0</td>\n",
       "      <td>18</td>\n",
       "      <td>22</td>\n",
       "      <td>17450.0</td>\n",
       "    </tr>\n",
       "  </tbody>\n",
       "</table>\n",
       "<p>5 rows × 27 columns</p>\n",
       "</div>"
      ],
      "text/plain": [
       "   Unnamed: 0  symboling  normalised-losses         make fuel-type aspiration  \\\n",
       "0           0          3              122.0  alfa-romero       gas        std   \n",
       "1           1          3              122.0  alfa-romero       gas        std   \n",
       "2           2          1              122.0  alfa-romero       gas        std   \n",
       "3           3          2              164.0         audi       gas        std   \n",
       "4           4          2              164.0         audi       gas        std   \n",
       "\n",
       "  num-of-doors   body-style drive-wheel engine-location  ...  engine-size  \\\n",
       "0          two  convertible         rwd           front  ...          130   \n",
       "1          two  convertible         rwd           front  ...          130   \n",
       "2          two    hatchback         rwd           front  ...          152   \n",
       "3         four        sedan         fwd           front  ...          109   \n",
       "4         four        sedan         4wd           front  ...          136   \n",
       "\n",
       "   fuel-system  bore  stroke  compression-ratio horse-power peak-rpm  \\\n",
       "0         mpfi  3.47    2.68                9.0       111.0   5000.0   \n",
       "1         mpfi  3.47    2.68                9.0       111.0   5000.0   \n",
       "2         mpfi  2.68    3.47                9.0       154.0   5000.0   \n",
       "3         mpfi  3.19    3.40               10.0       102.0   5500.0   \n",
       "4         mpfi  3.19    3.40                8.0       115.0   5500.0   \n",
       "\n",
       "   city-mpg highway-mpg    price  \n",
       "0        21          27  13495.0  \n",
       "1        21          27  16500.0  \n",
       "2        19          26  16500.0  \n",
       "3        24          30  13950.0  \n",
       "4        18          22  17450.0  \n",
       "\n",
       "[5 rows x 27 columns]"
      ]
     },
     "execution_count": 6,
     "metadata": {},
     "output_type": "execute_result"
    }
   ],
   "source": [
    "data.head()"
   ]
  },
  {
   "cell_type": "code",
   "execution_count": 7,
   "id": "b93d5379",
   "metadata": {},
   "outputs": [],
   "source": [
    "data.dropna(subset = ['price'], axis=0, inplace=True)\n",
    "data.dropna(subset = ['normalised-losses'], axis = 0, inplace = True)\n",
    "data.dropna(subset = ['num-of-doors'], axis = 0, inplace = True)\n",
    "data.dropna(subset = ['bore'], axis = 0, inplace = True)\n",
    "data.dropna(subset = ['stroke'], axis = 0, inplace = True)"
   ]
  },
  {
   "cell_type": "code",
   "execution_count": 8,
   "id": "08d9059e",
   "metadata": {},
   "outputs": [
    {
     "name": "stdout",
     "output_type": "stream",
     "text": [
      "<class 'pandas.core.frame.DataFrame'>\n",
      "Int64Index: 195 entries, 0 to 204\n",
      "Data columns (total 27 columns):\n",
      " #   Column             Non-Null Count  Dtype  \n",
      "---  ------             --------------  -----  \n",
      " 0   Unnamed: 0         195 non-null    int64  \n",
      " 1   symboling          195 non-null    int64  \n",
      " 2   normalised-losses  195 non-null    float64\n",
      " 3   make               195 non-null    object \n",
      " 4   fuel-type          195 non-null    object \n",
      " 5   aspiration         195 non-null    object \n",
      " 6   num-of-doors       195 non-null    object \n",
      " 7   body-style         195 non-null    object \n",
      " 8   drive-wheel        195 non-null    object \n",
      " 9   engine-location    195 non-null    object \n",
      " 10  wheel-base         195 non-null    float64\n",
      " 11  lenght             195 non-null    float64\n",
      " 12  width              195 non-null    float64\n",
      " 13  height             195 non-null    float64\n",
      " 14  curb-weight        195 non-null    int64  \n",
      " 15  engine-type        195 non-null    object \n",
      " 16  num-of-cylinders   195 non-null    object \n",
      " 17  engine-size        195 non-null    int64  \n",
      " 18  fuel-system        195 non-null    object \n",
      " 19  bore               195 non-null    float64\n",
      " 20  stroke             195 non-null    float64\n",
      " 21  compression-ratio  195 non-null    float64\n",
      " 22  horse-power        193 non-null    float64\n",
      " 23  peak-rpm           193 non-null    float64\n",
      " 24  city-mpg           195 non-null    int64  \n",
      " 25  highway-mpg        195 non-null    int64  \n",
      " 26  price              195 non-null    float64\n",
      "dtypes: float64(11), int64(6), object(10)\n",
      "memory usage: 42.7+ KB\n"
     ]
    }
   ],
   "source": [
    "data.info()"
   ]
  },
  {
   "cell_type": "code",
   "execution_count": 9,
   "id": "cc124594",
   "metadata": {},
   "outputs": [],
   "source": [
    "data[\"normalised-losses\"]=data[\"normalised-losses\"].astype(\"float64\")\n",
    "\n"
   ]
  },
  {
   "cell_type": "code",
   "execution_count": 10,
   "id": "ff0a9ec7",
   "metadata": {},
   "outputs": [],
   "source": [
    "data[\"price\"]=data[\"price\"].astype(\"int64\")\n"
   ]
  },
  {
   "cell_type": "code",
   "execution_count": 11,
   "id": "f566479a",
   "metadata": {},
   "outputs": [],
   "source": [
    "r = ['highway-mpg','price','city-mpg','peak-rpm','horse-power','compression-ratio','stroke','bore','engine-size','curb-weight',\n",
    "    'wheel-base','lenght','width','height','curb-weight']\n",
    "for column in r:\n",
    "    data[column] = data[column].replace(0,np.NaN)\n",
    "    mean = int(data[column].mean(skipna = True))\n",
    "    data[column] = data[column].replace(np.NaN,mean)"
   ]
  },
  {
   "cell_type": "code",
   "execution_count": 12,
   "id": "3daf8f0c",
   "metadata": {},
   "outputs": [
    {
     "data": {
      "text/plain": [
       "(0.0, 47877.068816461164)"
      ]
     },
     "execution_count": 12,
     "metadata": {},
     "output_type": "execute_result"
    },
    {
     "data": {
      "image/png": "[encoded data removed]",
      "text/plain": [
       "<Figure size 432x288 with 1 Axes>"
      ]
     },
     "metadata": {
      "needs_background": "light"
     },
     "output_type": "display_data"
    }
   ],
   "source": [
    "sns.regplot(x=\"lenght\", y=\"price\", data=data)\n",
    "plt.ylim(0,)"
   ]
  },
  {
   "cell_type": "code",
   "execution_count": 13,
   "id": "a7fee58e",
   "metadata": {},
   "outputs": [
    {
     "data": {
      "text/plain": [
       "5118"
      ]
     },
     "execution_count": 13,
     "metadata": {},
     "output_type": "execute_result"
    }
   ],
   "source": [
    "data['price'].min()"
   ]
  },
  {
   "cell_type": "code",
   "execution_count": 14,
   "id": "76f10ebe",
   "metadata": {},
   "outputs": [
    {
     "data": {
      "text/plain": [
       "45400"
      ]
     },
     "execution_count": 14,
     "metadata": {},
     "output_type": "execute_result"
    }
   ],
   "source": [
    "data['price'].max()"
   ]
  },
  {
   "cell_type": "code",
   "execution_count": 15,
   "id": "2fa76185",
   "metadata": {},
   "outputs": [
    {
     "data": {
      "text/plain": [
       "['Unnamed: 0',\n",
       " 'symboling',\n",
       " 'normalised-losses',\n",
       " 'make',\n",
       " 'fuel-type',\n",
       " 'aspiration',\n",
       " 'num-of-doors',\n",
       " 'body-style',\n",
       " 'drive-wheel',\n",
       " 'engine-location',\n",
       " 'wheel-base',\n",
       " 'lenght',\n",
       " 'width',\n",
       " 'height',\n",
       " 'curb-weight',\n",
       " 'engine-type',\n",
       " 'num-of-cylinders',\n",
       " 'engine-size',\n",
       " 'fuel-system',\n",
       " 'bore',\n",
       " 'stroke',\n",
       " 'compression-ratio',\n",
       " 'horse-power',\n",
       " 'peak-rpm',\n",
       " 'city-mpg',\n",
       " 'highway-mpg']"
      ]
     },
     "execution_count": 15,
     "metadata": {},
     "output_type": "execute_result"
    }
   ],
   "source": [
    "X_features = list(data.columns)\n",
    "X_features.remove('price')\n",
    "X_features"
   ]
  },
  {
   "cell_type": "code",
   "execution_count": 16,
   "id": "1bd33f24",
   "metadata": {},
   "outputs": [
    {
     "data": {
      "text/plain": [
       "(0.0, 48207.51949112943)"
      ]
     },
     "execution_count": 16,
     "metadata": {},
     "output_type": "execute_result"
    },
    {
     "data": {
      "image/png": "[encoded data removed]",
      "text/plain": [
       "<Figure size 432x288 with 1 Axes>"
      ]
     },
     "metadata": {
      "needs_background": "light"
     },
     "output_type": "display_data"
    }
   ],
   "source": [
    "##correlation between highway-mpg and price\n",
    "sns.regplot(x=\"highway-mpg\", y=\"price\", data=data)\n",
    "plt.ylim(0,)"
   ]
  },
  {
   "cell_type": "code",
   "execution_count": 17,
   "id": "9f99429d",
   "metadata": {},
   "outputs": [
    {
     "data": {
      "text/plain": [
       "(0.0, 47414.1)"
      ]
     },
     "execution_count": 17,
     "metadata": {},
     "output_type": "execute_result"
    },
    {
     "data": {
      "image/png": "[encoded data removed]",
      "text/plain": [
       "<Figure size 432x288 with 1 Axes>"
      ]
     },
     "metadata": {
      "needs_background": "light"
     },
     "output_type": "display_data"
    }
   ],
   "source": [
    "sns.regplot(x= 'height', y=\"price\", data=data)\n",
    "plt.ylim(0,)"
   ]
  },
  {
   "cell_type": "code",
   "execution_count": 18,
   "id": "77887b49",
   "metadata": {},
   "outputs": [
    {
     "data": {
      "text/plain": [
       "(0.0, 47880.42432241481)"
      ]
     },
     "execution_count": 18,
     "metadata": {},
     "output_type": "execute_result"
    },
    {
     "data": {
      "image/png": "[encoded data removed]",
      "text/plain": [
       "<Figure size 432x288 with 1 Axes>"
      ]
     },
     "metadata": {
      "needs_background": "light"
     },
     "output_type": "display_data"
    }
   ],
   "source": [
    "sns.regplot(x= 'lenght', y=\"price\", data=data)\n",
    "plt.ylim(0,)"
   ]
  },
  {
   "cell_type": "code",
   "execution_count": 19,
   "id": "10224fdf",
   "metadata": {},
   "outputs": [
    {
     "data": {
      "text/plain": [
       "(0.0, 47613.00273459792)"
      ]
     },
     "execution_count": 19,
     "metadata": {},
     "output_type": "execute_result"
    },
    {
     "data": {
      "image/png": "[encoded data removed]",
      "text/plain": [
       "<Figure size 432x288 with 1 Axes>"
      ]
     },
     "metadata": {
      "needs_background": "light"
     },
     "output_type": "display_data"
    }
   ],
   "source": [
    "sns.regplot(x= 'wheel-base', y=\"price\", data=data)\n",
    "plt.ylim(0,)"
   ]
  },
  {
   "cell_type": "code",
   "execution_count": 20,
   "id": "24d7f51b",
   "metadata": {
    "scrolled": true
   },
   "outputs": [
    {
     "name": "stdout",
     "output_type": "stream",
     "text": [
      "                  price                                            \\\n",
      "body-style  convertible       hardtop     hatchback         sedan   \n",
      "drive-wheel                                                         \n",
      "4wd                 NaN           NaN   7603.000000  12647.333333   \n",
      "fwd             11595.0   8249.000000   8396.387755   9816.905660   \n",
      "rwd             23949.6  24202.714286  14714.285714  21711.833333   \n",
      "\n",
      "                           \n",
      "body-style          wagon  \n",
      "drive-wheel                \n",
      "4wd           9095.750000  \n",
      "fwd           9997.333333  \n",
      "rwd          16994.222222  \n"
     ]
    }
   ],
   "source": [
    "df_test= data[[\"drive-wheel\", \"body-style\",\"price\"]]\n",
    "df_grp= df_test.groupby([\"drive-wheel\", \"body-style\",],as_index=False).mean()\n",
    "##pivoting for easy understanding\n",
    "\n",
    "df_pivot=df_grp.pivot(index= \"drive-wheel\", columns=\"body-style\" )\n",
    "print(df_pivot)"
   ]
  },
  {
   "cell_type": "code",
   "execution_count": 21,
   "id": "b276f6cd",
   "metadata": {},
   "outputs": [
    {
     "data": {
      "text/plain": [
       "['Unnamed: 0',\n",
       " 'symboling',\n",
       " 'normalised-losses',\n",
       " 'wheel-base',\n",
       " 'lenght',\n",
       " 'width',\n",
       " 'height',\n",
       " 'curb-weight',\n",
       " 'engine-size',\n",
       " 'bore',\n",
       " 'stroke',\n",
       " 'compression-ratio',\n",
       " 'horse-power',\n",
       " 'peak-rpm',\n",
       " 'city-mpg',\n",
       " 'highway-mpg',\n",
       " 'make_audi',\n",
       " 'make_bmw',\n",
       " 'make_chevrolet',\n",
       " 'make_dodge',\n",
       " 'make_honda',\n",
       " 'make_isuzu',\n",
       " 'make_jaguar',\n",
       " 'make_mazda',\n",
       " 'make_mercedes-benz',\n",
       " 'make_mercury',\n",
       " 'make_mitsubishi',\n",
       " 'make_nissan',\n",
       " 'make_peugot',\n",
       " 'make_plymouth',\n",
       " 'make_porsche',\n",
       " 'make_renault',\n",
       " 'make_saab',\n",
       " 'make_subaru',\n",
       " 'make_toyota',\n",
       " 'make_volkswagen',\n",
       " 'make_volvo',\n",
       " 'fuel-type_gas',\n",
       " 'aspiration_turbo',\n",
       " 'num-of-doors_two',\n",
       " 'body-style_hardtop',\n",
       " 'body-style_hatchback',\n",
       " 'body-style_sedan',\n",
       " 'body-style_wagon',\n",
       " 'drive-wheel_fwd',\n",
       " 'drive-wheel_rwd',\n",
       " 'engine-location_rear',\n",
       " 'engine-type_l',\n",
       " 'engine-type_ohc',\n",
       " 'engine-type_ohcf',\n",
       " 'engine-type_ohcv',\n",
       " 'num-of-cylinders_five',\n",
       " 'num-of-cylinders_four',\n",
       " 'num-of-cylinders_six',\n",
       " 'num-of-cylinders_three',\n",
       " 'num-of-cylinders_twelve',\n",
       " 'fuel-system_2bbl',\n",
       " 'fuel-system_idi',\n",
       " 'fuel-system_mfi',\n",
       " 'fuel-system_mpfi',\n",
       " 'fuel-system_spdi',\n",
       " 'fuel-system_spfi']"
      ]
     },
     "execution_count": 21,
     "metadata": {},
     "output_type": "execute_result"
    }
   ],
   "source": [
    "encode_data = pd.get_dummies(data[X_features], drop_first = True)\n",
    "list(encode_data.columns)"
   ]
  },
  {
   "cell_type": "code",
   "execution_count": 22,
   "id": "3249da0a",
   "metadata": {},
   "outputs": [],
   "source": [
    "X = encode_data\n",
    "y = data.price"
   ]
  },
  {
   "cell_type": "code",
   "execution_count": 23,
   "id": "22576031",
   "metadata": {},
   "outputs": [],
   "source": [
    "X_train, X_test, y_train, y_test = train_test_split(X, y, test_size = 0.3, random_state = 42,)"
   ]
  },
  {
   "cell_type": "code",
   "execution_count": 24,
   "id": "c2bcace7",
   "metadata": {},
   "outputs": [],
   "source": [
    "Sc_X = StandardScaler()\n",
    "X_train = Sc_X.fit_transform(X_train)\n",
    "X_test = Sc_X.transform(X_test)"
   ]
  },
  {
   "cell_type": "code",
   "execution_count": 25,
   "id": "ca361ee6",
   "metadata": {},
   "outputs": [
    {
     "data": {
      "text/plain": [
       "LinearRegression()"
      ]
     },
     "execution_count": 25,
     "metadata": {},
     "output_type": "execute_result"
    }
   ],
   "source": [
    "model_fit = LinearRegression()\n",
    "model_fit.fit(X_train, y_train)"
   ]
  },
  {
   "cell_type": "code",
   "execution_count": 26,
   "id": "73b159a2",
   "metadata": {},
   "outputs": [
    {
     "data": {
      "text/plain": [
       "array([ 8277.46380335, 30716.1417542 ,  8074.2760479 , 18295.7221881 ,\n",
       "        5655.52572222,  7772.5582986 , 11530.93098475, 27999.52761542,\n",
       "        5785.81254917,  6659.07637536, 15071.01034613, 14296.48713182,\n",
       "        5894.10922479, 19196.77284005, 12854.24609702,  6895.30201242,\n",
       "        6239.51139263,  7663.61954901, 17491.3447838 , 11028.68243833,\n",
       "       15138.02018894,  4219.76676758, 32312.72028477, 40752.89892412,\n",
       "        9874.38373046, 14255.81496945,  5907.64666265, 14764.05496207,\n",
       "        6370.08631764, 16792.19902745,  7041.36934504, 14358.56602218,\n",
       "        7239.80689735,  7533.64374667, 17045.10279361, 17233.88742622,\n",
       "       14764.60337754, 16878.32235972, 13396.51141643, 15892.39058618,\n",
       "       11384.10280885, 14378.56956716, 11494.46465301,  6573.16630845,\n",
       "       15921.4381628 , 15445.88921436,  8611.15530688, 18044.89716713,\n",
       "        8964.7353174 , 34691.51185964, 15466.57548798, 11821.84318969,\n",
       "       11220.52281689,  8592.07780255,  5838.81537017,  8758.2876186 ,\n",
       "       25089.02303993, 10451.91162463, 10881.18987338])"
      ]
     },
     "execution_count": 26,
     "metadata": {},
     "output_type": "execute_result"
    }
   ],
   "source": [
    "y_pred = model_fit.predict(X_test)\n",
    "y_pred"
   ]
  },
  {
   "cell_type": "code",
   "execution_count": 27,
   "id": "6273cf2d",
   "metadata": {},
   "outputs": [
    {
     "name": "stdout",
     "output_type": "stream",
     "text": [
      "12691.2794117647\n"
     ]
    }
   ],
   "source": [
    "print(model_fit.intercept_)"
   ]
  },
  {
   "cell_type": "code",
   "execution_count": 28,
   "id": "fffc612a",
   "metadata": {},
   "outputs": [
    {
     "name": "stdout",
     "output_type": "stream",
     "text": [
      "[ 8.93520581e+03  2.66127370e+02  5.72680141e+01  1.72252528e+03\n",
      " -1.40561711e+03  1.36216840e+02 -4.65336734e+02  3.84783768e+03\n",
      "  1.19682743e+03 -2.35114158e+02 -2.01051932e+02 -1.24720010e+03\n",
      "  3.47629406e+01  6.40284594e+02  5.16601019e+02  2.10366041e+02\n",
      " -2.55315954e+02  2.78344478e+02 -1.53939211e+02 -2.35658899e+03\n",
      " -2.43867093e+03 -1.14934182e+03 -3.72949242e+02 -3.11973243e+03\n",
      " -1.88989205e+03  3.36513040e-11 -3.93861388e+03 -5.45782857e+03\n",
      " -2.77222590e+03 -3.67034959e+03 -1.31509325e+03 -2.84466760e+03\n",
      " -2.90240125e+03 -2.96611024e+03 -1.07629219e+04 -8.72367123e+03\n",
      " -7.53069589e+03 -7.88669044e+02  7.74164104e+02 -3.18265127e+02\n",
      " -5.17015112e+02 -8.38951566e+02 -9.22533730e+02 -8.34585508e+02\n",
      "  3.81895654e+02  6.79957801e+02  9.09494702e-13 -2.69076858e+03\n",
      "  9.02481084e+02 -2.96611024e+03 -1.97588361e+02 -1.89880215e+03\n",
      " -3.24544282e+03 -2.31332924e+03 -1.53939211e+02  0.00000000e+00\n",
      "  9.87583852e+02  7.88669044e+02  4.25641770e+01  7.56330917e+02\n",
      "  2.90049597e+02  0.00000000e+00]\n"
     ]
    }
   ],
   "source": [
    "print(model_fit.coef_)"
   ]
  },
  {
   "cell_type": "code",
   "execution_count": 29,
   "id": "a0f639ba",
   "metadata": {},
   "outputs": [],
   "source": [
    "from sklearn import metrics\n",
    "sk_mean_ab_error = metrics.mean_absolute_error(y_test, y_pred)\n",
    "sk_mean_sq_error = metrics.mean_squared_error(y_test, y_pred)\n",
    "sk_root_sq_error = np.sqrt(sk_mean_sq_error)\n",
    "sk_determinant_coef = metrics.r2_score(y_test, y_pred)\n",
    "sk_exp_variance = metrics.explained_variance_score(y_test, y_pred)\n",
    "sk_linear_model_ev = [[sk_mean_ab_error, sk_mean_sq_error, sk_root_sq_error, sk_determinant_coef, sk_exp_variance]]\n",
    "sk_linear_model_assessment = pd.DataFrame(sk_linear_model_ev, index =[\"Estimates\"], columns = [\"Sk mean absolute error\", \"Sk mean squared error\",\"Sk root mean squared error\", \"Sk determinant coefficient\", \"Sk variance score\"])\n",
    "sk_linear_model_assessment\n",
    "y = data.price"
   ]
  },
  {
   "cell_type": "code",
   "execution_count": 30,
   "id": "4bbf5fb7",
   "metadata": {},
   "outputs": [
    {
     "name": "stdout",
     "output_type": "stream",
     "text": [
      "           Sk mean absolute error  Sk mean squared error  \\\n",
      "Estimates             3526.133207           4.952917e+07   \n",
      "\n",
      "           Sk root mean squared error  Sk determinant coefficient  \\\n",
      "Estimates                 7037.696696                    0.474974   \n",
      "\n",
      "           Sk variance score  \n",
      "Estimates           0.487598  \n"
     ]
    }
   ],
   "source": [
    "print(sk_linear_model_assessment)"
   ]
  },
  {
   "cell_type": "code",
   "execution_count": 31,
   "id": "73b4ee9f",
   "metadata": {},
   "outputs": [
    {
     "name": "stdout",
     "output_type": "stream",
     "text": [
      "0.47497395078166027\n"
     ]
    }
   ],
   "source": [
    "print(sk_determinant_coef)"
   ]
  },
  {
   "cell_type": "code",
   "execution_count": 32,
   "id": "764f2a54",
   "metadata": {},
   "outputs": [
    {
     "name": "stderr",
     "output_type": "stream",
     "text": [
      "C:\\ProgramData\\Anaconda3\\lib\\site-packages\\seaborn\\distributions.py:2619: FutureWarning: `distplot` is a deprecated function and will be removed in a future version. Please adapt your code to use either `displot` (a figure-level function with similar flexibility) or `kdeplot` (an axes-level function for kernel density plots).\n",
      "  warnings.warn(msg, FutureWarning)\n",
      "C:\\ProgramData\\Anaconda3\\lib\\site-packages\\seaborn\\distributions.py:2619: FutureWarning: `distplot` is a deprecated function and will be removed in a future version. Please adapt your code to use either `displot` (a figure-level function with similar flexibility) or `kdeplot` (an axes-level function for kernel density plots).\n",
      "  warnings.warn(msg, FutureWarning)\n"
     ]
    },
    {
     "data": {
      "text/plain": [
       "<AxesSubplot:xlabel='price', ylabel='Density'>"
      ]
     },
     "execution_count": 32,
     "metadata": {},
     "output_type": "execute_result"
    },
    {
     "data": {
      "image/png": "[encoded data removed]",
      "text/plain": [
       "<Figure size 432x288 with 1 Axes>"
      ]
     },
     "metadata": {
      "needs_background": "light"
     },
     "output_type": "display_data"
    }
   ],
   "source": [
    "## Distribution plot\n",
    "\n",
    "axl=sns.distplot(data['price'], hist=False, color=\"r\", label=\"Actual Value\")\n",
    "\n",
    "sns.distplot(y_pred, hist=False, color=\"b\", label=\"Fitted Value\", ax=axl)"
   ]
  },
  {
   "cell_type": "code",
   "execution_count": 33,
   "id": "e8fa0e87",
   "metadata": {},
   "outputs": [
    {
     "name": "stdout",
     "output_type": "stream",
     "text": [
      "[0.72131233 0.84107993 0.87759111]\n"
     ]
    }
   ],
   "source": [
    "from sklearn.model_selection import cross_val_score\n",
    "scores = cross_val_score(model_fit,X_train,y_train, cv = 3)\n",
    "print(scores)"
   ]
  },
  {
   "cell_type": "code",
   "execution_count": 34,
   "id": "58963fa7",
   "metadata": {},
   "outputs": [
    {
     "name": "stdout",
     "output_type": "stream",
     "text": [
      "[0.72131233 0.84107993 0.87759111]\n"
     ]
    }
   ],
   "source": [
    "from sklearn.model_selection import cross_val_predict\n",
    "predict = cross_val_score(model_fit,X_train,y_train, cv = 3)\n",
    "print(predict)"
   ]
  },
  {
   "cell_type": "code",
   "execution_count": 35,
   "id": "a8687a78",
   "metadata": {},
   "outputs": [
    {
     "data": {
      "text/html": [
       "<div>\n",
       "<style scoped>\n",
       "    .dataframe tbody tr th:only-of-type {\n",
       "        vertical-align: middle;\n",
       "    }\n",
       "\n",
       "    .dataframe tbody tr th {\n",
       "        vertical-align: top;\n",
       "    }\n",
       "\n",
       "    .dataframe thead th {\n",
       "        text-align: right;\n",
       "    }\n",
       "</style>\n",
       "<table border=\"1\" class=\"dataframe\">\n",
       "  <thead>\n",
       "    <tr style=\"text-align: right;\">\n",
       "      <th></th>\n",
       "      <th>Unnamed: 0</th>\n",
       "      <th>symboling</th>\n",
       "      <th>normalised-losses</th>\n",
       "      <th>wheel-base</th>\n",
       "      <th>lenght</th>\n",
       "      <th>width</th>\n",
       "      <th>height</th>\n",
       "      <th>curb-weight</th>\n",
       "      <th>engine-size</th>\n",
       "      <th>bore</th>\n",
       "      <th>stroke</th>\n",
       "      <th>compression-ratio</th>\n",
       "      <th>horse-power</th>\n",
       "      <th>peak-rpm</th>\n",
       "      <th>city-mpg</th>\n",
       "      <th>highway-mpg</th>\n",
       "      <th>price</th>\n",
       "    </tr>\n",
       "  </thead>\n",
       "  <tbody>\n",
       "    <tr>\n",
       "      <th>Unnamed: 0</th>\n",
       "      <td>1.000000</td>\n",
       "      <td>-0.141639</td>\n",
       "      <td>-0.226367</td>\n",
       "      <td>0.112817</td>\n",
       "      <td>0.150381</td>\n",
       "      <td>0.038230</td>\n",
       "      <td>0.228610</td>\n",
       "      <td>0.056374</td>\n",
       "      <td>-0.075232</td>\n",
       "      <td>0.243516</td>\n",
       "      <td>-0.160810</td>\n",
       "      <td>0.154266</td>\n",
       "      <td>-0.024390</td>\n",
       "      <td>-0.175934</td>\n",
       "      <td>0.011533</td>\n",
       "      <td>0.007165</td>\n",
       "      <td>-0.124912</td>\n",
       "    </tr>\n",
       "    <tr>\n",
       "      <th>symboling</th>\n",
       "      <td>-0.141639</td>\n",
       "      <td>1.000000</td>\n",
       "      <td>0.453564</td>\n",
       "      <td>-0.534813</td>\n",
       "      <td>-0.362498</td>\n",
       "      <td>-0.246034</td>\n",
       "      <td>-0.521838</td>\n",
       "      <td>-0.231330</td>\n",
       "      <td>-0.067926</td>\n",
       "      <td>-0.143309</td>\n",
       "      <td>-0.007221</td>\n",
       "      <td>-0.175032</td>\n",
       "      <td>0.069225</td>\n",
       "      <td>0.227092</td>\n",
       "      <td>0.016954</td>\n",
       "      <td>0.085525</td>\n",
       "      <td>-0.084899</td>\n",
       "    </tr>\n",
       "    <tr>\n",
       "      <th>normalised-losses</th>\n",
       "      <td>-0.226367</td>\n",
       "      <td>0.453564</td>\n",
       "      <td>1.000000</td>\n",
       "      <td>-0.043452</td>\n",
       "      <td>0.033233</td>\n",
       "      <td>0.093690</td>\n",
       "      <td>-0.353793</td>\n",
       "      <td>0.108670</td>\n",
       "      <td>0.142836</td>\n",
       "      <td>-0.025470</td>\n",
       "      <td>0.053888</td>\n",
       "      <td>-0.112986</td>\n",
       "      <td>0.217723</td>\n",
       "      <td>0.213593</td>\n",
       "      <td>-0.208021</td>\n",
       "      <td>-0.166282</td>\n",
       "      <td>0.138447</td>\n",
       "    </tr>\n",
       "    <tr>\n",
       "      <th>wheel-base</th>\n",
       "      <td>0.112817</td>\n",
       "      <td>-0.534813</td>\n",
       "      <td>-0.043452</td>\n",
       "      <td>1.000000</td>\n",
       "      <td>0.875691</td>\n",
       "      <td>0.815729</td>\n",
       "      <td>0.589116</td>\n",
       "      <td>0.781624</td>\n",
       "      <td>0.567293</td>\n",
       "      <td>0.492602</td>\n",
       "      <td>0.160784</td>\n",
       "      <td>0.253504</td>\n",
       "      <td>0.376691</td>\n",
       "      <td>-0.350436</td>\n",
       "      <td>-0.501888</td>\n",
       "      <td>-0.571296</td>\n",
       "      <td>0.585840</td>\n",
       "    </tr>\n",
       "    <tr>\n",
       "      <th>lenght</th>\n",
       "      <td>0.150381</td>\n",
       "      <td>-0.362498</td>\n",
       "      <td>0.033233</td>\n",
       "      <td>0.875691</td>\n",
       "      <td>1.000000</td>\n",
       "      <td>0.857308</td>\n",
       "      <td>0.487915</td>\n",
       "      <td>0.881669</td>\n",
       "      <td>0.686683</td>\n",
       "      <td>0.606980</td>\n",
       "      <td>0.127226</td>\n",
       "      <td>0.154362</td>\n",
       "      <td>0.589037</td>\n",
       "      <td>-0.275887</td>\n",
       "      <td>-0.702443</td>\n",
       "      <td>-0.730439</td>\n",
       "      <td>0.692628</td>\n",
       "    </tr>\n",
       "    <tr>\n",
       "      <th>width</th>\n",
       "      <td>0.038230</td>\n",
       "      <td>-0.246034</td>\n",
       "      <td>0.093690</td>\n",
       "      <td>0.815729</td>\n",
       "      <td>0.857308</td>\n",
       "      <td>1.000000</td>\n",
       "      <td>0.307081</td>\n",
       "      <td>0.866850</td>\n",
       "      <td>0.739804</td>\n",
       "      <td>0.542241</td>\n",
       "      <td>0.191020</td>\n",
       "      <td>0.187264</td>\n",
       "      <td>0.621188</td>\n",
       "      <td>-0.247496</td>\n",
       "      <td>-0.657535</td>\n",
       "      <td>-0.701565</td>\n",
       "      <td>0.752035</td>\n",
       "    </tr>\n",
       "    <tr>\n",
       "      <th>height</th>\n",
       "      <td>0.228610</td>\n",
       "      <td>-0.521838</td>\n",
       "      <td>-0.353793</td>\n",
       "      <td>0.589116</td>\n",
       "      <td>0.487915</td>\n",
       "      <td>0.307081</td>\n",
       "      <td>1.000000</td>\n",
       "      <td>0.305499</td>\n",
       "      <td>0.026339</td>\n",
       "      <td>0.179087</td>\n",
       "      <td>-0.061688</td>\n",
       "      <td>0.253849</td>\n",
       "      <td>-0.081192</td>\n",
       "      <td>-0.255810</td>\n",
       "      <td>-0.108847</td>\n",
       "      <td>-0.159043</td>\n",
       "      <td>0.136897</td>\n",
       "    </tr>\n",
       "    <tr>\n",
       "      <th>curb-weight</th>\n",
       "      <td>0.056374</td>\n",
       "      <td>-0.231330</td>\n",
       "      <td>0.108670</td>\n",
       "      <td>0.781624</td>\n",
       "      <td>0.881669</td>\n",
       "      <td>0.866850</td>\n",
       "      <td>0.305499</td>\n",
       "      <td>1.000000</td>\n",
       "      <td>0.856988</td>\n",
       "      <td>0.643867</td>\n",
       "      <td>0.169941</td>\n",
       "      <td>0.161203</td>\n",
       "      <td>0.762088</td>\n",
       "      <td>-0.278499</td>\n",
       "      <td>-0.776856</td>\n",
       "      <td>-0.818045</td>\n",
       "      <td>0.834715</td>\n",
       "    </tr>\n",
       "    <tr>\n",
       "      <th>engine-size</th>\n",
       "      <td>-0.075232</td>\n",
       "      <td>-0.067926</td>\n",
       "      <td>0.142836</td>\n",
       "      <td>0.567293</td>\n",
       "      <td>0.686683</td>\n",
       "      <td>0.739804</td>\n",
       "      <td>0.026339</td>\n",
       "      <td>0.856988</td>\n",
       "      <td>1.000000</td>\n",
       "      <td>0.581608</td>\n",
       "      <td>0.211887</td>\n",
       "      <td>0.024890</td>\n",
       "      <td>0.845274</td>\n",
       "      <td>-0.217761</td>\n",
       "      <td>-0.716206</td>\n",
       "      <td>-0.737465</td>\n",
       "      <td>0.887343</td>\n",
       "    </tr>\n",
       "    <tr>\n",
       "      <th>bore</th>\n",
       "      <td>0.243516</td>\n",
       "      <td>-0.143309</td>\n",
       "      <td>-0.025470</td>\n",
       "      <td>0.492602</td>\n",
       "      <td>0.606980</td>\n",
       "      <td>0.542241</td>\n",
       "      <td>0.179087</td>\n",
       "      <td>0.643867</td>\n",
       "      <td>0.581608</td>\n",
       "      <td>1.000000</td>\n",
       "      <td>-0.053699</td>\n",
       "      <td>-0.005938</td>\n",
       "      <td>0.572244</td>\n",
       "      <td>-0.273456</td>\n",
       "      <td>-0.602041</td>\n",
       "      <td>-0.607942</td>\n",
       "      <td>0.542844</td>\n",
       "    </tr>\n",
       "    <tr>\n",
       "      <th>stroke</th>\n",
       "      <td>-0.160810</td>\n",
       "      <td>-0.007221</td>\n",
       "      <td>0.053888</td>\n",
       "      <td>0.160784</td>\n",
       "      <td>0.127226</td>\n",
       "      <td>0.191020</td>\n",
       "      <td>-0.061688</td>\n",
       "      <td>0.169941</td>\n",
       "      <td>0.211887</td>\n",
       "      <td>-0.053699</td>\n",
       "      <td>1.000000</td>\n",
       "      <td>0.187667</td>\n",
       "      <td>0.100460</td>\n",
       "      <td>-0.066997</td>\n",
       "      <td>-0.038143</td>\n",
       "      <td>-0.038768</td>\n",
       "      <td>0.084371</td>\n",
       "    </tr>\n",
       "    <tr>\n",
       "      <th>compression-ratio</th>\n",
       "      <td>0.154266</td>\n",
       "      <td>-0.175032</td>\n",
       "      <td>-0.112986</td>\n",
       "      <td>0.253504</td>\n",
       "      <td>0.154362</td>\n",
       "      <td>0.187264</td>\n",
       "      <td>0.253849</td>\n",
       "      <td>0.161203</td>\n",
       "      <td>0.024890</td>\n",
       "      <td>-0.005938</td>\n",
       "      <td>0.187667</td>\n",
       "      <td>1.000000</td>\n",
       "      <td>-0.203632</td>\n",
       "      <td>-0.439437</td>\n",
       "      <td>0.315581</td>\n",
       "      <td>0.249382</td>\n",
       "      <td>0.076056</td>\n",
       "    </tr>\n",
       "    <tr>\n",
       "      <th>horse-power</th>\n",
       "      <td>-0.024390</td>\n",
       "      <td>0.069225</td>\n",
       "      <td>0.217723</td>\n",
       "      <td>0.376691</td>\n",
       "      <td>0.589037</td>\n",
       "      <td>0.621188</td>\n",
       "      <td>-0.081192</td>\n",
       "      <td>0.762088</td>\n",
       "      <td>0.845274</td>\n",
       "      <td>0.572244</td>\n",
       "      <td>0.100460</td>\n",
       "      <td>-0.203632</td>\n",
       "      <td>1.000000</td>\n",
       "      <td>0.101383</td>\n",
       "      <td>-0.832998</td>\n",
       "      <td>-0.812077</td>\n",
       "      <td>0.811636</td>\n",
       "    </tr>\n",
       "    <tr>\n",
       "      <th>peak-rpm</th>\n",
       "      <td>-0.175934</td>\n",
       "      <td>0.227092</td>\n",
       "      <td>0.213593</td>\n",
       "      <td>-0.350436</td>\n",
       "      <td>-0.275887</td>\n",
       "      <td>-0.247496</td>\n",
       "      <td>-0.255810</td>\n",
       "      <td>-0.278499</td>\n",
       "      <td>-0.217761</td>\n",
       "      <td>-0.273456</td>\n",
       "      <td>-0.066997</td>\n",
       "      <td>-0.439437</td>\n",
       "      <td>0.101383</td>\n",
       "      <td>1.000000</td>\n",
       "      <td>-0.060985</td>\n",
       "      <td>-0.008413</td>\n",
       "      <td>-0.103716</td>\n",
       "    </tr>\n",
       "    <tr>\n",
       "      <th>city-mpg</th>\n",
       "      <td>0.011533</td>\n",
       "      <td>0.016954</td>\n",
       "      <td>-0.208021</td>\n",
       "      <td>-0.501888</td>\n",
       "      <td>-0.702443</td>\n",
       "      <td>-0.657535</td>\n",
       "      <td>-0.108847</td>\n",
       "      <td>-0.776856</td>\n",
       "      <td>-0.716206</td>\n",
       "      <td>-0.602041</td>\n",
       "      <td>-0.038143</td>\n",
       "      <td>0.315581</td>\n",
       "      <td>-0.832998</td>\n",
       "      <td>-0.060985</td>\n",
       "      <td>1.000000</td>\n",
       "      <td>0.971190</td>\n",
       "      <td>-0.703664</td>\n",
       "    </tr>\n",
       "    <tr>\n",
       "      <th>highway-mpg</th>\n",
       "      <td>0.007165</td>\n",
       "      <td>0.085525</td>\n",
       "      <td>-0.166282</td>\n",
       "      <td>-0.571296</td>\n",
       "      <td>-0.730439</td>\n",
       "      <td>-0.701565</td>\n",
       "      <td>-0.159043</td>\n",
       "      <td>-0.818045</td>\n",
       "      <td>-0.737465</td>\n",
       "      <td>-0.607942</td>\n",
       "      <td>-0.038768</td>\n",
       "      <td>0.249382</td>\n",
       "      <td>-0.812077</td>\n",
       "      <td>-0.008413</td>\n",
       "      <td>0.971190</td>\n",
       "      <td>1.000000</td>\n",
       "      <td>-0.718545</td>\n",
       "    </tr>\n",
       "    <tr>\n",
       "      <th>price</th>\n",
       "      <td>-0.124912</td>\n",
       "      <td>-0.084899</td>\n",
       "      <td>0.138447</td>\n",
       "      <td>0.585840</td>\n",
       "      <td>0.692628</td>\n",
       "      <td>0.752035</td>\n",
       "      <td>0.136897</td>\n",
       "      <td>0.834715</td>\n",
       "      <td>0.887343</td>\n",
       "      <td>0.542844</td>\n",
       "      <td>0.084371</td>\n",
       "      <td>0.076056</td>\n",
       "      <td>0.811636</td>\n",
       "      <td>-0.103716</td>\n",
       "      <td>-0.703664</td>\n",
       "      <td>-0.718545</td>\n",
       "      <td>1.000000</td>\n",
       "    </tr>\n",
       "  </tbody>\n",
       "</table>\n",
       "</div>"
      ],
      "text/plain": [
       "                   Unnamed: 0  symboling  normalised-losses  wheel-base  \\\n",
       "Unnamed: 0           1.000000  -0.141639          -0.226367    0.112817   \n",
       "symboling           -0.141639   1.000000           0.453564   -0.534813   \n",
       "normalised-losses   -0.226367   0.453564           1.000000   -0.043452   \n",
       "wheel-base           0.112817  -0.534813          -0.043452    1.000000   \n",
       "lenght               0.150381  -0.362498           0.033233    0.875691   \n",
       "width                0.038230  -0.246034           0.093690    0.815729   \n",
       "height               0.228610  -0.521838          -0.353793    0.589116   \n",
       "curb-weight          0.056374  -0.231330           0.108670    0.781624   \n",
       "engine-size         -0.075232  -0.067926           0.142836    0.567293   \n",
       "bore                 0.243516  -0.143309          -0.025470    0.492602   \n",
       "stroke              -0.160810  -0.007221           0.053888    0.160784   \n",
       "compression-ratio    0.154266  -0.175032          -0.112986    0.253504   \n",
       "horse-power         -0.024390   0.069225           0.217723    0.376691   \n",
       "peak-rpm            -0.175934   0.227092           0.213593   -0.350436   \n",
       "city-mpg             0.011533   0.016954          -0.208021   -0.501888   \n",
       "highway-mpg          0.007165   0.085525          -0.166282   -0.571296   \n",
       "price               -0.124912  -0.084899           0.138447    0.585840   \n",
       "\n",
       "                     lenght     width    height  curb-weight  engine-size  \\\n",
       "Unnamed: 0         0.150381  0.038230  0.228610     0.056374    -0.075232   \n",
       "symboling         -0.362498 -0.246034 -0.521838    -0.231330    -0.067926   \n",
       "normalised-losses  0.033233  0.093690 -0.353793     0.108670     0.142836   \n",
       "wheel-base         0.875691  0.815729  0.589116     0.781624     0.567293   \n",
       "lenght             1.000000  0.857308  0.487915     0.881669     0.686683   \n",
       "width              0.857308  1.000000  0.307081     0.866850     0.739804   \n",
       "height             0.487915  0.307081  1.000000     0.305499     0.026339   \n",
       "curb-weight        0.881669  0.866850  0.305499     1.000000     0.856988   \n",
       "engine-size        0.686683  0.739804  0.026339     0.856988     1.000000   \n",
       "bore               0.606980  0.542241  0.179087     0.643867     0.581608   \n",
       "stroke             0.127226  0.191020 -0.061688     0.169941     0.211887   \n",
       "compression-ratio  0.154362  0.187264  0.253849     0.161203     0.024890   \n",
       "horse-power        0.589037  0.621188 -0.081192     0.762088     0.845274   \n",
       "peak-rpm          -0.275887 -0.247496 -0.255810    -0.278499    -0.217761   \n",
       "city-mpg          -0.702443 -0.657535 -0.108847    -0.776856    -0.716206   \n",
       "highway-mpg       -0.730439 -0.701565 -0.159043    -0.818045    -0.737465   \n",
       "price              0.692628  0.752035  0.136897     0.834715     0.887343   \n",
       "\n",
       "                       bore    stroke  compression-ratio  horse-power  \\\n",
       "Unnamed: 0         0.243516 -0.160810           0.154266    -0.024390   \n",
       "symboling         -0.143309 -0.007221          -0.175032     0.069225   \n",
       "normalised-losses -0.025470  0.053888          -0.112986     0.217723   \n",
       "wheel-base         0.492602  0.160784           0.253504     0.376691   \n",
       "lenght             0.606980  0.127226           0.154362     0.589037   \n",
       "width              0.542241  0.191020           0.187264     0.621188   \n",
       "height             0.179087 -0.061688           0.253849    -0.081192   \n",
       "curb-weight        0.643867  0.169941           0.161203     0.762088   \n",
       "engine-size        0.581608  0.211887           0.024890     0.845274   \n",
       "bore               1.000000 -0.053699          -0.005938     0.572244   \n",
       "stroke            -0.053699  1.000000           0.187667     0.100460   \n",
       "compression-ratio -0.005938  0.187667           1.000000    -0.203632   \n",
       "horse-power        0.572244  0.100460          -0.203632     1.000000   \n",
       "peak-rpm          -0.273456 -0.066997          -0.439437     0.101383   \n",
       "city-mpg          -0.602041 -0.038143           0.315581    -0.832998   \n",
       "highway-mpg       -0.607942 -0.038768           0.249382    -0.812077   \n",
       "price              0.542844  0.084371           0.076056     0.811636   \n",
       "\n",
       "                   peak-rpm  city-mpg  highway-mpg     price  \n",
       "Unnamed: 0        -0.175934  0.011533     0.007165 -0.124912  \n",
       "symboling          0.227092  0.016954     0.085525 -0.084899  \n",
       "normalised-losses  0.213593 -0.208021    -0.166282  0.138447  \n",
       "wheel-base        -0.350436 -0.501888    -0.571296  0.585840  \n",
       "lenght            -0.275887 -0.702443    -0.730439  0.692628  \n",
       "width             -0.247496 -0.657535    -0.701565  0.752035  \n",
       "height            -0.255810 -0.108847    -0.159043  0.136897  \n",
       "curb-weight       -0.278499 -0.776856    -0.818045  0.834715  \n",
       "engine-size       -0.217761 -0.716206    -0.737465  0.887343  \n",
       "bore              -0.273456 -0.602041    -0.607942  0.542844  \n",
       "stroke            -0.066997 -0.038143    -0.038768  0.084371  \n",
       "compression-ratio -0.439437  0.315581     0.249382  0.076056  \n",
       "horse-power        0.101383 -0.832998    -0.812077  0.811636  \n",
       "peak-rpm           1.000000 -0.060985    -0.008413 -0.103716  \n",
       "city-mpg          -0.060985  1.000000     0.971190 -0.703664  \n",
       "highway-mpg       -0.008413  0.971190     1.000000 -0.718545  \n",
       "price             -0.103716 -0.703664    -0.718545  1.000000  "
      ]
     },
     "execution_count": 35,
     "metadata": {},
     "output_type": "execute_result"
    }
   ],
   "source": [
    "data.corr()"
   ]
  },
  {
   "cell_type": "code",
   "execution_count": 36,
   "id": "2e3b1981",
   "metadata": {},
   "outputs": [
    {
     "data": {
      "text/plain": [
       "<AxesSubplot:>"
      ]
     },
     "execution_count": 36,
     "metadata": {},
     "output_type": "execute_result"
    },
    {
     "data": {
      "image/png": "[encoded data removed]",
      "text/plain": [
       "<Figure size 432x288 with 2 Axes>"
      ]
     },
     "metadata": {
      "needs_background": "light"
     },
     "output_type": "display_data"
    }
   ],
   "source": [
    "sns.heatmap(data.corr())"
   ]
  },
  {
   "cell_type": "code",
   "execution_count": 37,
   "id": "61c16e15",
   "metadata": {},
   "outputs": [
    {
     "data": {
      "text/plain": [
       "Index(['Unnamed: 0', 'symboling', 'normalised-losses', 'make', 'fuel-type',\n",
       "       'aspiration', 'num-of-doors', 'body-style', 'drive-wheel',\n",
       "       'engine-location', 'wheel-base', 'lenght', 'width', 'height',\n",
       "       'curb-weight', 'engine-type', 'num-of-cylinders', 'engine-size',\n",
       "       'fuel-system', 'bore', 'stroke', 'compression-ratio', 'horse-power',\n",
       "       'peak-rpm', 'city-mpg', 'highway-mpg', 'price'],\n",
       "      dtype='object')"
      ]
     },
     "execution_count": 37,
     "metadata": {},
     "output_type": "execute_result"
    }
   ],
   "source": [
    "data.columns"
   ]
  },
  {
   "cell_type": "code",
   "execution_count": 38,
   "id": "e767217a",
   "metadata": {},
   "outputs": [],
   "source": [
    "data.drop(['symboling','normalised-losses', 'fuel-type', 'num-of-doors', 'body-style', 'engine-location', 'height', 'engine-type', 'num-of-cylinders', 'engine-size', 'stroke', 'compression-ratio','peak-rpm', 'Unnamed: 0'], axis = 1, inplace = True)\n",
    "\n"
   ]
  },
  {
   "cell_type": "code",
   "execution_count": 39,
   "id": "6171999e",
   "metadata": {},
   "outputs": [
    {
     "data": {
      "text/html": [
       "<div>\n",
       "<style scoped>\n",
       "    .dataframe tbody tr th:only-of-type {\n",
       "        vertical-align: middle;\n",
       "    }\n",
       "\n",
       "    .dataframe tbody tr th {\n",
       "        vertical-align: top;\n",
       "    }\n",
       "\n",
       "    .dataframe thead th {\n",
       "        text-align: right;\n",
       "    }\n",
       "</style>\n",
       "<table border=\"1\" class=\"dataframe\">\n",
       "  <thead>\n",
       "    <tr style=\"text-align: right;\">\n",
       "      <th></th>\n",
       "      <th>make</th>\n",
       "      <th>aspiration</th>\n",
       "      <th>drive-wheel</th>\n",
       "      <th>wheel-base</th>\n",
       "      <th>lenght</th>\n",
       "      <th>width</th>\n",
       "      <th>curb-weight</th>\n",
       "      <th>fuel-system</th>\n",
       "      <th>bore</th>\n",
       "      <th>horse-power</th>\n",
       "      <th>city-mpg</th>\n",
       "      <th>highway-mpg</th>\n",
       "      <th>price</th>\n",
       "    </tr>\n",
       "  </thead>\n",
       "  <tbody>\n",
       "    <tr>\n",
       "      <th>0</th>\n",
       "      <td>alfa-romero</td>\n",
       "      <td>std</td>\n",
       "      <td>rwd</td>\n",
       "      <td>88.6</td>\n",
       "      <td>168.8</td>\n",
       "      <td>64.1</td>\n",
       "      <td>2548</td>\n",
       "      <td>mpfi</td>\n",
       "      <td>3.47</td>\n",
       "      <td>111.0</td>\n",
       "      <td>21</td>\n",
       "      <td>27</td>\n",
       "      <td>13495</td>\n",
       "    </tr>\n",
       "    <tr>\n",
       "      <th>1</th>\n",
       "      <td>alfa-romero</td>\n",
       "      <td>std</td>\n",
       "      <td>rwd</td>\n",
       "      <td>88.6</td>\n",
       "      <td>168.8</td>\n",
       "      <td>64.1</td>\n",
       "      <td>2548</td>\n",
       "      <td>mpfi</td>\n",
       "      <td>3.47</td>\n",
       "      <td>111.0</td>\n",
       "      <td>21</td>\n",
       "      <td>27</td>\n",
       "      <td>16500</td>\n",
       "    </tr>\n",
       "    <tr>\n",
       "      <th>2</th>\n",
       "      <td>alfa-romero</td>\n",
       "      <td>std</td>\n",
       "      <td>rwd</td>\n",
       "      <td>94.5</td>\n",
       "      <td>171.2</td>\n",
       "      <td>65.5</td>\n",
       "      <td>2823</td>\n",
       "      <td>mpfi</td>\n",
       "      <td>2.68</td>\n",
       "      <td>154.0</td>\n",
       "      <td>19</td>\n",
       "      <td>26</td>\n",
       "      <td>16500</td>\n",
       "    </tr>\n",
       "    <tr>\n",
       "      <th>3</th>\n",
       "      <td>audi</td>\n",
       "      <td>std</td>\n",
       "      <td>fwd</td>\n",
       "      <td>99.8</td>\n",
       "      <td>176.6</td>\n",
       "      <td>66.2</td>\n",
       "      <td>2337</td>\n",
       "      <td>mpfi</td>\n",
       "      <td>3.19</td>\n",
       "      <td>102.0</td>\n",
       "      <td>24</td>\n",
       "      <td>30</td>\n",
       "      <td>13950</td>\n",
       "    </tr>\n",
       "    <tr>\n",
       "      <th>4</th>\n",
       "      <td>audi</td>\n",
       "      <td>std</td>\n",
       "      <td>4wd</td>\n",
       "      <td>99.4</td>\n",
       "      <td>176.6</td>\n",
       "      <td>66.4</td>\n",
       "      <td>2824</td>\n",
       "      <td>mpfi</td>\n",
       "      <td>3.19</td>\n",
       "      <td>115.0</td>\n",
       "      <td>18</td>\n",
       "      <td>22</td>\n",
       "      <td>17450</td>\n",
       "    </tr>\n",
       "  </tbody>\n",
       "</table>\n",
       "</div>"
      ],
      "text/plain": [
       "          make aspiration drive-wheel  wheel-base  lenght  width  curb-weight  \\\n",
       "0  alfa-romero        std         rwd        88.6   168.8   64.1         2548   \n",
       "1  alfa-romero        std         rwd        88.6   168.8   64.1         2548   \n",
       "2  alfa-romero        std         rwd        94.5   171.2   65.5         2823   \n",
       "3         audi        std         fwd        99.8   176.6   66.2         2337   \n",
       "4         audi        std         4wd        99.4   176.6   66.4         2824   \n",
       "\n",
       "  fuel-system  bore  horse-power  city-mpg  highway-mpg  price  \n",
       "0        mpfi  3.47        111.0        21           27  13495  \n",
       "1        mpfi  3.47        111.0        21           27  16500  \n",
       "2        mpfi  2.68        154.0        19           26  16500  \n",
       "3        mpfi  3.19        102.0        24           30  13950  \n",
       "4        mpfi  3.19        115.0        18           22  17450  "
      ]
     },
     "execution_count": 39,
     "metadata": {},
     "output_type": "execute_result"
    }
   ],
   "source": [
    "data.head()"
   ]
  },
  {
   "cell_type": "code",
   "execution_count": 40,
   "id": "aa06e55a",
   "metadata": {},
   "outputs": [
    {
     "data": {
      "text/plain": [
       "['make',\n",
       " 'aspiration',\n",
       " 'drive-wheel',\n",
       " 'wheel-base',\n",
       " 'lenght',\n",
       " 'width',\n",
       " 'curb-weight',\n",
       " 'fuel-system',\n",
       " 'bore',\n",
       " 'horse-power',\n",
       " 'city-mpg',\n",
       " 'highway-mpg']"
      ]
     },
     "execution_count": 40,
     "metadata": {},
     "output_type": "execute_result"
    }
   ],
   "source": [
    "new_X_features = list(data.columns)\n",
    "new_X_features.remove('price')\n",
    "new_X_features"
   ]
  },
  {
   "cell_type": "code",
   "execution_count": 41,
   "id": "82eea865",
   "metadata": {},
   "outputs": [
    {
     "data": {
      "text/plain": [
       "['wheel-base',\n",
       " 'lenght',\n",
       " 'width',\n",
       " 'curb-weight',\n",
       " 'bore',\n",
       " 'horse-power',\n",
       " 'city-mpg',\n",
       " 'highway-mpg',\n",
       " 'make_audi',\n",
       " 'make_bmw',\n",
       " 'make_chevrolet',\n",
       " 'make_dodge',\n",
       " 'make_honda',\n",
       " 'make_isuzu',\n",
       " 'make_jaguar',\n",
       " 'make_mazda',\n",
       " 'make_mercedes-benz',\n",
       " 'make_mercury',\n",
       " 'make_mitsubishi',\n",
       " 'make_nissan',\n",
       " 'make_peugot',\n",
       " 'make_plymouth',\n",
       " 'make_porsche',\n",
       " 'make_renault',\n",
       " 'make_saab',\n",
       " 'make_subaru',\n",
       " 'make_toyota',\n",
       " 'make_volkswagen',\n",
       " 'make_volvo',\n",
       " 'aspiration_turbo',\n",
       " 'drive-wheel_fwd',\n",
       " 'drive-wheel_rwd',\n",
       " 'fuel-system_2bbl',\n",
       " 'fuel-system_idi',\n",
       " 'fuel-system_mfi',\n",
       " 'fuel-system_mpfi',\n",
       " 'fuel-system_spdi',\n",
       " 'fuel-system_spfi']"
      ]
     },
     "execution_count": 41,
     "metadata": {},
     "output_type": "execute_result"
    }
   ],
   "source": [
    "new_encode_data = pd.get_dummies(data[new_X_features], drop_first = True)\n",
    "list(new_encode_data.columns)"
   ]
  },
  {
   "cell_type": "code",
   "execution_count": 42,
   "id": "fdcb1695",
   "metadata": {},
   "outputs": [],
   "source": [
    "X = new_encode_data\n",
    "y = data.price\n"
   ]
  },
  {
   "cell_type": "code",
   "execution_count": 43,
   "id": "0f3d04c9",
   "metadata": {},
   "outputs": [],
   "source": [
    "X_train, X_test, y_train, y_test = train_test_split(X, y, test_size = 0.3, random_state = 42,)\n"
   ]
  },
  {
   "cell_type": "code",
   "execution_count": 44,
   "id": "d52831e3",
   "metadata": {},
   "outputs": [],
   "source": [
    "Sc_X = StandardScaler()\n",
    "X_train = Sc_X.fit_transform(X_train)\n",
    "X_test = Sc_X.transform(X_test)\n",
    "\n"
   ]
  },
  {
   "cell_type": "code",
   "execution_count": 45,
   "id": "18a601a8",
   "metadata": {},
   "outputs": [
    {
     "data": {
      "text/plain": [
       "LinearRegression()"
      ]
     },
     "execution_count": 45,
     "metadata": {},
     "output_type": "execute_result"
    }
   ],
   "source": [
    "new_model_fit = LinearRegression()\n",
    "new_model_fit.fit(X_train, y_train)\n"
   ]
  },
  {
   "cell_type": "code",
   "execution_count": 46,
   "id": "4d09468f",
   "metadata": {},
   "outputs": [
    {
     "data": {
      "text/plain": [
       "array([ 8183.14804214, 31049.59302127,  9437.13143773, 20039.6424666 ,\n",
       "        5804.91288536,  7674.00057714, 10799.88882333, 28147.78664423,\n",
       "        4447.62722526,  5214.58878573, 16221.78248421,  8929.18647521,\n",
       "        6199.01209307, 19237.26439333, 10192.42071629, 21560.97394456,\n",
       "        6186.28616499,  5731.58393332, 18662.78093011, 21840.64768295,\n",
       "       15193.94282039,  5954.51585925, 21950.92589121, 35788.04436481,\n",
       "       11622.81969034, 14611.19218682,  6303.24460506, 17063.59430128,\n",
       "        7098.45185533, 17038.2480997 , 21560.97394456, 14565.92890677,\n",
       "        6324.33257995,  8611.08224232, 18158.10970039, 16909.6426905 ,\n",
       "        8888.68267706, 16801.02086558, 13974.05213027, 15006.42690832,\n",
       "       10265.18181266, 14958.76263129, 10455.58070139,  6408.76739686,\n",
       "       14737.67988897, 17955.21878469,  8980.52038844, 17982.58428192,\n",
       "        9844.22322007, 33943.52723211, 15404.70321803, 11718.16301025,\n",
       "       10026.02226679,  8235.47225479,  6314.75219491,  8647.89103277,\n",
       "       30333.46671814, 10545.63997025, 10175.906963  ])"
      ]
     },
     "execution_count": 46,
     "metadata": {},
     "output_type": "execute_result"
    }
   ],
   "source": [
    "new_y_pred = new_model_fit.predict(X_test)\n",
    "new_y_pred"
   ]
  },
  {
   "cell_type": "code",
   "execution_count": 47,
   "id": "ee66d26e",
   "metadata": {},
   "outputs": [],
   "source": [
    "from sklearn import metrics\n",
    "new_sk_mean_ab_error = metrics.mean_absolute_error(y_test, new_y_pred)\n",
    "new_sk_mean_sq_error = metrics.mean_squared_error(y_test, new_y_pred)\n",
    "new_sk_root_sq_error = np.sqrt(sk_mean_sq_error)\n",
    "new_sk_determinant_coef = metrics.r2_score(y_test, new_y_pred)\n",
    "new_sk_exp_variance = metrics.explained_variance_score(y_test, new_y_pred)\n",
    "new_sk_linear_model_ev = [[sk_mean_ab_error, sk_mean_sq_error, sk_root_sq_error, sk_determinant_coef, sk_exp_variance]]\n",
    "new_sk_linear_model_assessment = pd.DataFrame(sk_linear_model_ev, index =[\"Estimates\"], columns = [\"new_Sk mean absolute error\", \"new_Sk mean squared error\",\"new_Sk root mean squared error\", \"new_Sk determinant coefficient\", \"new_Sk variance score\"])\n",
    "new_sk_linear_model_assessment\n",
    "y = data.price"
   ]
  },
  {
   "cell_type": "code",
   "execution_count": 48,
   "id": "f7af2b7a",
   "metadata": {},
   "outputs": [
    {
     "name": "stdout",
     "output_type": "stream",
     "text": [
      "81.76894206021497\n"
     ]
    }
   ],
   "source": [
    "print(new_sk_determinant_coef * 100)"
   ]
  },
  {
   "cell_type": "code",
   "execution_count": 49,
   "id": "ee56fb60",
   "metadata": {},
   "outputs": [
    {
     "name": "stdout",
     "output_type": "stream",
     "text": [
      "           new_Sk mean absolute error  new_Sk mean squared error  \\\n",
      "Estimates                 3526.133207               4.952917e+07   \n",
      "\n",
      "           new_Sk root mean squared error  new_Sk determinant coefficient  \\\n",
      "Estimates                     7037.696696                        0.474974   \n",
      "\n",
      "           new_Sk variance score  \n",
      "Estimates               0.487598  \n"
     ]
    }
   ],
   "source": [
    "print(new_sk_linear_model_assessment)"
   ]
  },
  {
   "cell_type": "code",
   "execution_count": 50,
   "id": "20f601ae",
   "metadata": {},
   "outputs": [
    {
     "name": "stderr",
     "output_type": "stream",
     "text": [
      "C:\\ProgramData\\Anaconda3\\lib\\site-packages\\seaborn\\distributions.py:2619: FutureWarning: `distplot` is a deprecated function and will be removed in a future version. Please adapt your code to use either `displot` (a figure-level function with similar flexibility) or `kdeplot` (an axes-level function for kernel density plots).\n",
      "  warnings.warn(msg, FutureWarning)\n",
      "C:\\ProgramData\\Anaconda3\\lib\\site-packages\\seaborn\\distributions.py:2619: FutureWarning: `distplot` is a deprecated function and will be removed in a future version. Please adapt your code to use either `displot` (a figure-level function with similar flexibility) or `kdeplot` (an axes-level function for kernel density plots).\n",
      "  warnings.warn(msg, FutureWarning)\n"
     ]
    },
    {
     "data": {
      "text/plain": [
       "<AxesSubplot:xlabel='price', ylabel='Density'>"
      ]
     },
     "execution_count": 50,
     "metadata": {},
     "output_type": "execute_result"
    },
    {
     "data": {
      "image/png": "[encoded data removed]",
      "text/plain": [
       "<Figure size 432x288 with 1 Axes>"
      ]
     },
     "metadata": {
      "needs_background": "light"
     },
     "output_type": "display_data"
    }
   ],
   "source": [
    "## Distribution plot\n",
    "\n",
    "## Distribution plot\n",
    "\n",
    "axl=sns.distplot(data['price'], hist=False, color=\"r\", label=\"Actual Value\")\n",
    "\n",
    "sns.distplot(y_pred, hist=False, color=\"b\", label=\"Fitted Value\", ax=axl)"
   ]
  },
  {
   "cell_type": "code",
   "execution_count": 51,
   "id": "07d1d061",
   "metadata": {},
   "outputs": [
    {
     "name": "stderr",
     "output_type": "stream",
     "text": [
      "C:\\ProgramData\\Anaconda3\\lib\\site-packages\\seaborn\\distributions.py:2619: FutureWarning: `distplot` is a deprecated function and will be removed in a future version. Please adapt your code to use either `displot` (a figure-level function with similar flexibility) or `kdeplot` (an axes-level function for kernel density plots).\n",
      "  warnings.warn(msg, FutureWarning)\n",
      "C:\\ProgramData\\Anaconda3\\lib\\site-packages\\seaborn\\distributions.py:2619: FutureWarning: `distplot` is a deprecated function and will be removed in a future version. Please adapt your code to use either `displot` (a figure-level function with similar flexibility) or `kdeplot` (an axes-level function for kernel density plots).\n",
      "  warnings.warn(msg, FutureWarning)\n"
     ]
    },
    {
     "data": {
      "text/plain": [
       "<AxesSubplot:xlabel='price', ylabel='Density'>"
      ]
     },
     "execution_count": 51,
     "metadata": {},
     "output_type": "execute_result"
    },
    {
     "data": {
      "image/png": "[encoded data removed]",
      "text/plain": [
       "<Figure size 432x288 with 1 Axes>"
      ]
     },
     "metadata": {
      "needs_background": "light"
     },
     "output_type": "display_data"
    }
   ],
   "source": [
    "\n",
    "axl=sns.distplot(data['price'], hist=False, color=\"r\", label=\"Actual Value\")\n",
    "\n",
    "sns.distplot(new_y_pred, hist=False, color=\"b\", label=\"Fitted Value\", ax=axl)\n",
    "\n"
   ]
  },
  {
   "cell_type": "code",
   "execution_count": 52,
   "id": "a8beac90",
   "metadata": {},
   "outputs": [
    {
     "data": {
      "text/plain": [
       "{'new_encode_data': array([[-0.35522141, -0.05588003, -0.1928394 , ..., -0.90184995,\n",
       "         -0.19536617,  0.        ],\n",
       "        [ 1.78066269,  1.81407382,  2.33332295, ...,  1.10883191,\n",
       "         -0.19536617,  0.        ],\n",
       "        [-0.74652842, -0.44745156, -0.83586254, ...,  1.10883191,\n",
       "         -0.19536617,  0.        ],\n",
       "        ...,\n",
       "        [ 1.24261555,  1.05490452,  2.05774161, ..., -0.90184995,\n",
       "         -0.19536617,  0.        ],\n",
       "        [-0.04543669,  0.27975271,  0.31239307, ..., -0.90184995,\n",
       "         -0.19536617,  0.        ],\n",
       "        [ 0.54152383,  0.10394508,  0.31239307, ...,  1.10883191,\n",
       "         -0.19536617,  0.        ]]),\n",
       " 'Actual Price': 148     8013\n",
       " 17     36880\n",
       " 165     9298\n",
       " 105    19699\n",
       " 77      6189\n",
       " 163     8058\n",
       " 64     11245\n",
       " 16     41315\n",
       " 121     6692\n",
       " 120     6229\n",
       " 194    12940\n",
       " 19      6295\n",
       " 91      6649\n",
       " 10     16430\n",
       " 174    10698\n",
       " 126    32528\n",
       " 78      6669\n",
       " 122     7609\n",
       " 202    21485\n",
       " 128    37028\n",
       " 133    12170\n",
       " 154     7898\n",
       " 75     16503\n",
       " 49     36000\n",
       " 168     9639\n",
       " 124    12764\n",
       " 76      5389\n",
       " 102    14399\n",
       " 32      5399\n",
       " 110    13860\n",
       " 127    34028\n",
       " 84     14489\n",
       " 25      6692\n",
       " 182     7775\n",
       " 137    18620\n",
       " 179    15998\n",
       " 20      6575\n",
       " 178    16558\n",
       " 82     12629\n",
       " 5      15250\n",
       " 145    11259\n",
       " 132    11850\n",
       " 177    11248\n",
       " 94      7299\n",
       " 65     18280\n",
       " 104    17199\n",
       " 37      7895\n",
       " 200    16845\n",
       " 46     11048\n",
       " 74     45400\n",
       " 113    16695\n",
       " 169     9989\n",
       " 87      9279\n",
       " 85      6989\n",
       " 31      6855\n",
       " 146     7463\n",
       " 69     28176\n",
       " 59      8845\n",
       " 175     9988\n",
       " Name: price, dtype: int64,\n",
       " 'Model Predicted Price': array([ 8183.14804214, 31049.59302127,  9437.13143773, 20039.6424666 ,\n",
       "         5804.91288536,  7674.00057714, 10799.88882333, 28147.78664423,\n",
       "         4447.62722526,  5214.58878573, 16221.78248421,  8929.18647521,\n",
       "         6199.01209307, 19237.26439333, 10192.42071629, 21560.97394456,\n",
       "         6186.28616499,  5731.58393332, 18662.78093011, 21840.64768295,\n",
       "        15193.94282039,  5954.51585925, 21950.92589121, 35788.04436481,\n",
       "        11622.81969034, 14611.19218682,  6303.24460506, 17063.59430128,\n",
       "         7098.45185533, 17038.2480997 , 21560.97394456, 14565.92890677,\n",
       "         6324.33257995,  8611.08224232, 18158.10970039, 16909.6426905 ,\n",
       "         8888.68267706, 16801.02086558, 13974.05213027, 15006.42690832,\n",
       "        10265.18181266, 14958.76263129, 10455.58070139,  6408.76739686,\n",
       "        14737.67988897, 17955.21878469,  8980.52038844, 17982.58428192,\n",
       "         9844.22322007, 33943.52723211, 15404.70321803, 11718.16301025,\n",
       "        10026.02226679,  8235.47225479,  6314.75219491,  8647.89103277,\n",
       "        30333.46671814, 10545.63997025, 10175.906963  ])}"
      ]
     },
     "execution_count": 52,
     "metadata": {},
     "output_type": "execute_result"
    }
   ],
   "source": [
    "data_predict = ({'new_encode_data':X_test, 'Actual Price':y_test, 'Model Predicted Price': new_y_pred})\n",
    "data_predict"
   ]
  },
  {
   "cell_type": "code",
   "execution_count": 54,
   "id": "ff6b4ecb",
   "metadata": {},
   "outputs": [
    {
     "name": "stdout",
     "output_type": "stream",
     "text": [
      "12691.279411764697\n"
     ]
    }
   ],
   "source": [
    "print(new_model_fit.intercept_)"
   ]
  },
  {
   "cell_type": "code",
   "execution_count": 55,
   "id": "158e80ed",
   "metadata": {},
   "outputs": [
    {
     "name": "stdout",
     "output_type": "stream",
     "text": [
      "[ 7.95701980e+02 -1.13473834e+03  1.13192851e+03  3.35099572e+03\n",
      "  1.98691055e+01  1.08797835e+03  9.12468842e+02 -4.74046121e+02\n",
      "  1.34696989e+02  9.48602072e+02 -1.29389885e+02 -8.79581840e+02\n",
      " -4.59480091e+02 -4.01001798e+02  6.00000483e+02 -6.86093869e+02\n",
      "  1.18097842e+03  9.09494702e-13 -9.29471447e+02 -9.26560970e+02\n",
      " -1.38221495e+03 -7.27135760e+02  2.28737584e+02 -5.05277047e+02\n",
      "  6.33333412e+01 -9.63948176e+02 -1.53929034e+03 -6.77420910e+02\n",
      " -5.56037922e+02  1.60135214e+02  3.62126752e+02  8.97470582e+02\n",
      "  8.06210081e+02  2.99969129e+02  5.23103558e+01  7.39756109e+02\n",
      "  3.81887225e+02  0.00000000e+00]\n"
     ]
    }
   ],
   "source": [
    "print(new_model_fit.coef_)"
   ]
  },
  {
   "cell_type": "code",
   "execution_count": null,
   "id": "c87b0828",
   "metadata": {},
   "outputs": [],
   "source": []
  }
 ],
 "metadata": {
  "kernelspec": {
   "display_name": "Python 3 (ipykernel)",
   "language": "python",
   "name": "python3"
  },
  "language_info": {
   "codemirror_mode": {
    "name": "ipython",
    "version": 3
   },
   "file_extension": ".py",
   "mimetype": "text/x-python",
   "name": "python",
   "nbconvert_exporter": "python",
   "pygments_lexer": "ipython3",
   "version": "3.9.7"
  }
 },
 "nbformat": 4,
 "nbformat_minor": 5
}
